{
 "cells": [
  {
   "cell_type": "markdown",
   "id": "b2c6dafc",
   "metadata": {},
   "source": [
    "# 02. Use cellranger to analyze 10X scRNA-seq data"
   ]
  },
  {
   "cell_type": "markdown",
   "id": "bfd9187e",
   "metadata": {},
   "source": [
    "* Assume you have already performed demultiplex using <code>cellranger mkfastq</code> or <code>cellranger-arc mkfastq</code> and obtain <code>fastq</code> files of your libary. <br />\n",
    "* <code>cellranger count</code> will automatically performed alignment, features count, and quality control of your <code>fastq</code> reads. <br />\n",
    "* The output would be a folder containing mapping bam, count matrix and report html that you can use for different kind of analysis <br />"
   ]
  },
  {
   "cell_type": "markdown",
   "id": "b9c53785",
   "metadata": {},
   "source": [
    "* In this example, the current directory we are in is \n",
    "<code>/projects/ps-renlab2/y2xie/projects/77.LC/43.scHiC_species_mixing</code>.\n",
    "The fastq files are stored in the folder <code>01.rawdata</code>:\n",
    "![](images/fastq_dir.png)"
   ]
  },
  {
   "cell_type": "markdown",
   "id": "919c6579",
   "metadata": {},
   "source": [
    "### To analyze library like <code>LC552</code>, we will run <code>cellranger count</code>:"
   ]
  },
  {
   "cell_type": "code",
   "execution_count": null,
   "id": "ed00117e",
   "metadata": {},
   "outputs": [],
   "source": [
    "/projects/ps-renlab/y2xie/packages/cellranger-6.1.2/cellranger count --id=LC552 \\\n",
    "--project=AAAWY3CHV --transcriptome=/projects/ps-renlab/y2xie/projects/genome_ref/GRCh38_and_mm10 \\\n",
    "--fastqs=01.rawdata/AAAWY3CHV --sample=LC552 --include-introns --chemistry=ARC-v1"
   ]
  },
  {
   "cell_type": "markdown",
   "id": "97c12383",
   "metadata": {},
   "source": [
    "#### In the command above, \n",
    "<ol>\n",
    "      <li>We specify the <code>cellranger</code> packages location in case you didnt install this package. It will tell the command where to find <code>cellranger</code></li>\n",
    "      <li><code>--id</code> is your output folder name. I use the library name for convenience.</li>\n",
    "      <li><code>--project</code> is name of the project folder from which to pick <code>fastq</code>. By default, <code>mkfastq</code> will use part of the <code>bcl2</code> folder name to be project name. Since our <code>bcl2</code> is <code>230316_VH00454_139_AAAWY3CHV</code>, the project name is set to be <code>AAAWY3CHV</code>. **this argument is not necessary**</li>\n",
    "      <li><code>--transcriptome</code> is the reference to be mapped to. Since this is a Hela-mESC mixed library, we use the mixed genome reference.</li>\n",
    "      <li><code>--fastqs</code> is the path to your <code>fastq</code>.</li>\n",
    "      <li><code>--sample</code> is your library name. This should be the same as the name you used for demultiplexing.</li>\n",
    "     <li><code>--include-introns</code> is set becasue we are using single nucleu instead of whole cell. Many transcripts are unspliced and have a high ratio of introns.</li>\n",
    "     <li><code>--chemistry=ARC-v1</code> is set because we are using 10X Multiome kit and need to tell cellranger we are not using the Gene expression kit.</li>\n",
    "</ol>"
   ]
  },
  {
   "cell_type": "markdown",
   "id": "10953028",
   "metadata": {},
   "source": [
    "### You can also create a script named <code>cellranger_count.sh</code>to submit the job to tscc:\n",
    "<ol>\n",
    "      <li>First on command line, type in <code>vi cellranger_count.sh</code></li>\n",
    "      <li>Then in a prompted windowns, typi <code>i</code> to indicate you are doing editting</li>\n",
    "      <li>Type in or copy paste:</li>"
   ]
  },
  {
   "cell_type": "code",
   "execution_count": null,
   "id": "634b7fb6",
   "metadata": {},
   "outputs": [],
   "source": [
    "#!/bin/bash\n",
    "#PBS -q hotel\n",
    "#PBS -N cellranger_RNA\n",
    "#PBS -l nodes=1:ppn=8\n",
    "#PBS -l walltime=24:00:00\n",
    "\n",
    "cd /projects/ps-renlab2/y2xie/projects/77.LC/43.scHiC_species_mixing\n",
    "/projects/ps-renlab/y2xie/packages/cellranger-6.1.2/cellranger count --id=LC552 --project=AAAWY3CHV \\\n",
    "--transcriptome=/projects/ps-renlab/y2xie/projects/genome_ref/GRCh38_and_mm10 \\\n",
    "--fastqs=01.rawdata/AAAWY3CHV --sample=LC552 --include-introns --chemistry=ARC-v1"
   ]
  },
  {
   "cell_type": "markdown",
   "id": "8462ffbd",
   "metadata": {},
   "source": [
    "<ol>\n",
    "    <li> Then press Esc, to indicate you are finishing editting.</li>\n",
    "    <li>Finally type <code>:wq!</code>, to indicate you are saving the editting. Press Enter to exit.</li>\n",
    "</ol>\n",
    "\n",
    "#### In the script above, there is something different from run it interactively without submitting a script:\n",
    "<ol>\n",
    "    <li>We first <code>cd</code> into the working directory, becasue <code>cellranger count</code> will output results default to your current directory. When submitting script, your \"current\" directory becomes your <code>home</code> directory.</li>\n",
    "</ol>"
   ]
  },
  {
   "cell_type": "markdown",
   "id": "282eb8a0",
   "metadata": {},
   "source": [
    "### Submit the script using: <code>qsub cellranger_count.sh</code>\n",
    "* Once the job is done, you should be able to find the output directory in our working directory, here is <code>/projects/ps-renlab2/y2xie/projects/77.LC/43.scHiC_species_mixing</code>. The output directory should have a structure like this:\n",
    "![LC552](images/cellranger-count_output.png)"
   ]
  },
  {
   "cell_type": "markdown",
   "id": "aa53f3cf",
   "metadata": {},
   "source": [
    "* What we care about is the <code>outs</code> directory. Check it:\n",
    "![LC552/outs](images/cellranger-count_output2.png)"
   ]
  },
  {
   "cell_type": "markdown",
   "id": "3ff7b85a",
   "metadata": {},
   "source": [
    "#### In the output above, \n",
    "<ol>\n",
    "      <li><code>web_summary.html</code> contains the library QC results. We should check this to make sure everything looks good first!</li>\n",
    "      <li><code>filtered_feature_bc_matrix</code> and <code>filtered_feature_bc_matrix.h5</code>\n",
    "are the cellranger filtered cell-by-gene matrix, different format. The cells in these directory/files are those pass filter.</li>\n",
    "      <li><code>filtered_feature_bc_matrix</code> and <code>filtered_feature_bc_matrix.h5</code>\n",
    "are the raw cell-by-gene matrix, different format. All cells (no matter PF or not) are in these directory/files.</li>\n",
    "    <li><code>possorted_genome_bam.bam</code> is the aligned bam files containing different kind of sequence information</li>\n",
    "      </ol>"
   ]
  },
  {
   "cell_type": "markdown",
   "id": "b3c8cfe9",
   "metadata": {},
   "source": [
    "* Thats it! We will then used the cell-by-gene matrix to perform different kinds of analysis, which would not be covered here."
   ]
  }
 ],
 "metadata": {
  "kernelspec": {
   "display_name": "R",
   "language": "R",
   "name": "ir"
  },
  "language_info": {
   "codemirror_mode": "r",
   "file_extension": ".r",
   "mimetype": "text/x-r-source",
   "name": "R",
   "pygments_lexer": "r",
   "version": "4.1.2"
  }
 },
 "nbformat": 4,
 "nbformat_minor": 5
}
