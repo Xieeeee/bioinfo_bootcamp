{
 "cells": [
  {
   "cell_type": "markdown",
   "id": "b2c6dafc",
   "metadata": {},
   "source": [
    "# 01. Use cellranger-arc to demultiplex your Multiome library"
   ]
  },
  {
   "cell_type": "markdown",
   "id": "bfd9187e",
   "metadata": {},
   "source": [
    "* Assume you have alerady finihsed sequencing and a <code>bcl2</code> directory is waiting for you. <br />\n",
    "* <code>cellranger-arc mkfastq</code> will perform demultiplexing and yields <code>fastq</code> for each library. <br />\n",
    "* The reason we are using <code>cellranger-arc mkfastq</code> is becasue we are analyzing multiome experiment. If you are analyzing 10X scRNA-seq, please use <code>cellranger mkfastq</code>; if you are analyzing 10X scATAC-seq, you should use <code>cellranger-atac mkfastq</code>"
   ]
  },
  {
   "cell_type": "markdown",
   "id": "407421b5",
   "metadata": {},
   "source": [
    "* To demultiplex the sequencing run, we need **two** things:\n",
    "<ol>\n",
    "      <li>The <code>bcl2</code> directory output by sequencer. All of our NextSeq2000 sequencing data would be put into <code>/projects/ren-transposon/guac/</code> once the run is finished.</li>\n",
    "      <li>A simple sample sheet in csv format recording the library and index information.</li>\n",
    "</ol>\n",
    "* Here is an example sample sheet (we use <code>cat</code> to output what's in the sample sheet):"
   ]
  },
  {
   "cell_type": "markdown",
   "id": "f9597c1d",
   "metadata": {},
   "source": [
    "![test](images/rna_samplesheet.png)"
   ]
  },
  {
   "cell_type": "markdown",
   "id": "1c95baa7",
   "metadata": {},
   "source": [
    "* First, there is a header: <code>Lane,Sample,Index</code>. **You will never need to modifiy the header**.\n",
    "* For <code>Lane</code> column, you can always leave it to be <code>*</code>, indicating all sequencing lanes will be used for demultiplex. <br />\n",
    "* For <code>Sample</code> column, it records your library name. <br /> \n",
    "* For <code>Index</code> column, it records your index used for PCR. **The index name is different between RNA and ATAC modality. For example, if you used index <code>F12</code> for RNA library, what you should put in this column would be: <code>SI-TT-F12</code>. However, if you used the index <code>F12</code> for ATAC library, you should put in <code>SI-NA-F12</code>**."
   ]
  },
  {
   "cell_type": "markdown",
   "id": "d131eb31",
   "metadata": {},
   "source": [
    "### Now you need to have both the <code>bcl2</code> and <code>sample sheet</code> in your working directory."
   ]
  },
  {
   "cell_type": "markdown",
   "id": "b9c53785",
   "metadata": {},
   "source": [
    "* In this example, the current directory we are in is \n",
    "<code>/projects/ps-renlab2/y2xie/projects/77.LC/43.scHiC_species_mixing</code>. <br />\n",
    "* We will first softlink the bcl2 directory (<code>230316_VH00454_139_AAAWY3CHV</code>) to our current one:"
   ]
  },
  {
   "cell_type": "raw",
   "id": "dd9a69f4",
   "metadata": {},
   "source": [
    "ln -s /projects/ren-transposon/guac/230316_VH00454_139_AAAWY3CHV"
   ]
  },
  {
   "cell_type": "markdown",
   "id": "dbbc4ad5",
   "metadata": {},
   "source": [
    "* Softlink (<code>ln -s </code>) create a short cut to the directory or file we are referring to without actually copying or moving them. "
   ]
  },
  {
   "cell_type": "markdown",
   "id": "f51bde8c",
   "metadata": {},
   "source": [
    "* We will also copy and modify the <code>sample sheet</code>: <br />\n",
    "<ol>\n",
    "      <li><code>cp /projects/ps-renlab2/y2xie/scripts/Paired-HiC/SampleSheet.rna.csv ./</code></li>\n",
    "      <li>Next, modify <code>SampleSheet.rna.csv</code> using Excel or in command lines. To do this, type in <code>vi SampleSheet.rna.csv</code></li>\n",
    "      <li>Then in a prompted windowns, typi i to indicate you are doing editting.</li>\n",
    "      <li>Modify infromation to be the correct library and index.</li>\n",
    "      <li>Then press Esc, to indicate you are finishing editting.</li>\n",
    "      <li>Finally type <code>:wq!</code>, to indicate you are saving the editting. Press Enter to exit.</li>\n",
    "</ol>"
   ]
  },
  {
   "cell_type": "markdown",
   "id": "28977cc9",
   "metadata": {},
   "source": [
    "* Besides, create an output directory: <code>01.rawdata</code>"
   ]
  },
  {
   "cell_type": "markdown",
   "id": "919c6579",
   "metadata": {},
   "source": [
    "### To demultiplex the sequencing run, we will run <code>cellranger-arc mkfastq</code>:"
   ]
  },
  {
   "cell_type": "markdown",
   "id": "97c12383",
   "metadata": {},
   "source": [
    "#### In the command above, \n",
    "<ol>\n",
    "      <li>We specify the <code>cellranger-arc</code> packages location in case you didnt install this package. It will tell the command where to find <code>cellranger-arc</code></li>\n",
    "      <li><code>--run</code> is your softlinked <code>bcl2</code>.</li>\n",
    "      <li><code>--csv</code> is your sample sheet.</li>\n",
    "      <li><code>--output-dir</code> tell <code>cellranger-arc</code> where to output the <code>fastq</code>.</li>\n",
    "</ol>"
   ]
  },
  {
   "cell_type": "markdown",
   "id": "10953028",
   "metadata": {},
   "source": [
    "### You can also create a script named <code>cellranger_mkfastq.sh</code>to submit the job to tscc:\n",
    "* First on command line, type in <code>vi cellranger_mkfastq.sh</code><br />\n",
    "* Then in a prompted windowns, typi <code>i</code> to indicate you are doing editting <br />\n",
    "* Type in or copy paste:"
   ]
  },
  {
   "cell_type": "raw",
   "id": "2ea0d87c",
   "metadata": {},
   "source": [
    "#!/bin/bash\n",
    "#PBS -q hotel\n",
    "#PBS -N cellranger_mkfastq\n",
    "#PBS -l nodes=1:ppn=8\n",
    "#PBS -l walltime=24:00:00\n",
    "\n",
    "cd /projects/ps-renlab2/y2xie/projects/77.LC/43.scHiC_species_mixing\n",
    "/projects/ps-renlab/y2xie/packages/cellranger-arc-2.0.0/cellranger-arc mkfastq --run 230316_VH00454_139_AAAWY3CHV --csv SampleSheet.rna.csv --output-dir 01.rawdata/"
   ]
  },
  {
   "cell_type": "markdown",
   "id": "8462ffbd",
   "metadata": {},
   "source": [
    "* Then press Esc, to indicate you are finishing editting. <br />\n",
    "* Finally type <code>:wq!</code>, to indicate you are saving the editting. Press Enter to exit. <br />\n",
    "#### In the script above, there is something different from run it interactively without submitting a script:\n",
    "<ol>\n",
    "    <li>We first <code>cd</code> into the working directory, becasue <code>cellranger-arc mkfastq</code> will output results default to your current directory. When submitting script, your \"current\" directory becomes your <code>home</code> directory.</li>\n",
    "</ol>"
   ]
  },
  {
   "cell_type": "markdown",
   "id": "282eb8a0",
   "metadata": {},
   "source": [
    "### Submit the script using: <code>qsub cellranger_mkfastq.sh</code>\n",
    "* Once the job is done, you should be able to find the output directory in <code>/projects/ps-renlab2/y2xie/projects/77.LC/43.scHiC_species_mixing</code>. <br />\n",
    "* The output directory is named <code>AAAYW33HV</code>; You can find that this is the last part of our bcl2 directory (<code>230316_VH00454_139_AAAWY3CHV</code>). It would always be the last part of bcl2 directory if not specified. <br />\n",
    "![mkfastq_output](images/mkfastq_output.png)"
   ]
  },
  {
   "cell_type": "markdown",
   "id": "f9a7eb3a",
   "metadata": {},
   "source": [
    "* The <code>outs</code> directory should be what we want. <br />\n",
    "* Type in <code>ls AAAYW33HV/outs/</code> to see whats inside the directory:\n",
    "![mkfastq_output2](images/mkfastq_output2.png)"
   ]
  },
  {
   "cell_type": "markdown",
   "id": "6364f3ab",
   "metadata": {},
   "source": [
    "* You can see <code>fastq_path</code> is a softlink directory! Check where it is poninting to:\n",
    "![mkfastq_output3](images/mkfastq_output3.png)"
   ]
  },
  {
   "cell_type": "markdown",
   "id": "408da9ee",
   "metadata": {},
   "source": [
    "* You can see it is pointing to the same directory as you set for <code>--output-dir</code> during <code>mkfastq</code>. Now check what are in this output directory. We can directly check the output directory: <code>ls /projects/ps-renlab2/y2xie/projects/77.LC/43.scHiC_species_mixing/01.rawdata/</code>"
   ]
  },
  {
   "cell_type": "markdown",
   "id": "7400e4eb",
   "metadata": {},
   "source": [
    "* Now you should find there is also a folder named <code>AAAWY3CHV</code> in the output directory. The fastq are now in this directory:\n",
    "![mkfastq_output3](images/mkfastq_output4.png)"
   ]
  },
  {
   "cell_type": "markdown",
   "id": "ba63a69d",
   "metadata": {},
   "source": [
    "* Thats it! We can then use these <code>fastq</code> for alignment and counting, etc.. This would be covered in the next notebook.\n"
   ]
  }
 ],
 "metadata": {
  "kernelspec": {
   "display_name": "R",
   "language": "R",
   "name": "ir"
  },
  "language_info": {
   "codemirror_mode": "r",
   "file_extension": ".r",
   "mimetype": "text/x-r-source",
   "name": "R",
   "pygments_lexer": "r",
   "version": "4.1.2"
  }
 },
 "nbformat": 4,
 "nbformat_minor": 5
}
